{
 "cells": [
  {
   "cell_type": "markdown",
   "metadata": {
    "colab_type": "text",
    "id": "yfz8erQH9sou"
   },
   "source": [
    "# Download historical price data for S&P500 ETF from yahoo finance\n",
    "> YahooファイナンスからS&P500連動型ETFの株価データ(日足のヒストリカルデータ)をダウンロードしてチャートを表示する\n",
    "\n",
    "- toc: true\n",
    "- branch: master\n",
    "- badges: true\n",
    "- comments: false\n",
    "- categories: [pandas, historical stock price, data visualization]"
   ]
  },
  {
   "cell_type": "code",
   "execution_count": 1,
   "metadata": {
    "colab": {},
    "colab_type": "code",
    "id": "JdF5AaJ-i3N6"
   },
   "outputs": [],
   "source": [
    "import pandas as pd\n",
    "import numpy as np\n",
    "import matplotlib.pyplot as plt\n",
    "import requests\n",
    "%matplotlib inline"
   ]
  },
  {
   "cell_type": "markdown",
   "metadata": {
    "colab_type": "text",
    "id": "SpVPdY0M-HLn"
   },
   "source": [
    "githubにダウンローダーを公開しているので、それをgit cloneする。"
   ]
  },
  {
   "cell_type": "code",
   "execution_count": 3,
   "metadata": {
    "colab": {
     "base_uri": "https://localhost:8080/",
     "height": 119
    },
    "colab_type": "code",
    "id": "2XBbnebvi3OB",
    "outputId": "27d7488e-e821-4420-a1bf-51fbc511f31a"
   },
   "outputs": [
    {
     "name": "stdout",
     "output_type": "stream",
     "text": [
      "Cloning into 'yahoo_finance_jp'...\n",
      "remote: Enumerating objects: 12, done.\u001b[K\n",
      "remote: Counting objects: 100% (12/12), done.\u001b[K\n",
      "remote: Compressing objects: 100% (8/8), done.\u001b[K\n",
      "remote: Total 12 (delta 2), reused 12 (delta 2), pack-reused 0\u001b[K\n",
      "Unpacking objects: 100% (12/12), done.\n"
     ]
    }
   ],
   "source": [
    "!git clone https://github.com/yuki-data/yahoo_finance_jp.git"
   ]
  },
  {
   "cell_type": "markdown",
   "metadata": {
    "colab_type": "text",
    "id": "0PCX_6tI-i9g"
   },
   "source": [
    "git cloneしてきたスクリプトを実行する"
   ]
  },
  {
   "cell_type": "code",
   "execution_count": 4,
   "metadata": {
    "colab": {},
    "colab_type": "code",
    "id": "Ggs2FrmMjiYx"
   },
   "outputs": [],
   "source": [
    "run yahoo_finance_jp/yahoo_downloader.py"
   ]
  },
  {
   "cell_type": "markdown",
   "metadata": {
    "colab_type": "text",
    "id": "IDFyUHXWi3OF"
   },
   "source": [
    "S&P500連動型ETFの銘柄コード(1557)とデータの取得期間を指定して、ダウンロードする"
   ]
  },
  {
   "cell_type": "code",
   "execution_count": 6,
   "metadata": {
    "colab": {},
    "colab_type": "code",
    "id": "eVVgANY8i3OI"
   },
   "outputs": [],
   "source": [
    "downloader = YahooJpStockHistorical(symbol_code=1557, start=\"2020-01-01\", end=\"2020-06-16\", pause_single_table=3, request_session=requests.Session())\n",
    "df = downloader.get_stockdata()"
   ]
  },
  {
   "cell_type": "markdown",
   "metadata": {
    "colab_type": "text",
    "id": "7kgfbZqQ-96e"
   },
   "source": [
    "このように、株価のデータを表形式で取得できた。"
   ]
  },
  {
   "cell_type": "code",
   "execution_count": 11,
   "metadata": {
    "colab": {
     "base_uri": "https://localhost:8080/",
     "height": 204
    },
    "colab_type": "code",
    "id": "dattALmDkdSj",
    "outputId": "6c8524f0-e538-4e0e-f103-40884ae8de6a"
   },
   "outputs": [
    {
     "data": {
      "text/html": [
       "<div>\n",
       "<style scoped>\n",
       "    .dataframe tbody tr th:only-of-type {\n",
       "        vertical-align: middle;\n",
       "    }\n",
       "\n",
       "    .dataframe tbody tr th {\n",
       "        vertical-align: top;\n",
       "    }\n",
       "\n",
       "    .dataframe thead th {\n",
       "        text-align: right;\n",
       "    }\n",
       "</style>\n",
       "<table border=\"1\" class=\"dataframe\">\n",
       "  <thead>\n",
       "    <tr style=\"text-align: right;\">\n",
       "      <th></th>\n",
       "      <th>Date</th>\n",
       "      <th>Open</th>\n",
       "      <th>High</th>\n",
       "      <th>Low</th>\n",
       "      <th>Close</th>\n",
       "      <th>Volume</th>\n",
       "      <th>Adj_Close</th>\n",
       "    </tr>\n",
       "  </thead>\n",
       "  <tbody>\n",
       "    <tr>\n",
       "      <th>108</th>\n",
       "      <td>2020-01-06</td>\n",
       "      <td>34800</td>\n",
       "      <td>34850</td>\n",
       "      <td>34700</td>\n",
       "      <td>34750</td>\n",
       "      <td>7632</td>\n",
       "      <td>34750</td>\n",
       "    </tr>\n",
       "    <tr>\n",
       "      <th>107</th>\n",
       "      <td>2020-01-07</td>\n",
       "      <td>35050</td>\n",
       "      <td>35200</td>\n",
       "      <td>35050</td>\n",
       "      <td>35200</td>\n",
       "      <td>3487</td>\n",
       "      <td>35200</td>\n",
       "    </tr>\n",
       "    <tr>\n",
       "      <th>106</th>\n",
       "      <td>2020-01-08</td>\n",
       "      <td>34550</td>\n",
       "      <td>34900</td>\n",
       "      <td>34200</td>\n",
       "      <td>34850</td>\n",
       "      <td>11349</td>\n",
       "      <td>34850</td>\n",
       "    </tr>\n",
       "    <tr>\n",
       "      <th>105</th>\n",
       "      <td>2020-01-09</td>\n",
       "      <td>35450</td>\n",
       "      <td>35600</td>\n",
       "      <td>35450</td>\n",
       "      <td>35600</td>\n",
       "      <td>6255</td>\n",
       "      <td>35600</td>\n",
       "    </tr>\n",
       "    <tr>\n",
       "      <th>104</th>\n",
       "      <td>2020-01-10</td>\n",
       "      <td>35850</td>\n",
       "      <td>35900</td>\n",
       "      <td>35800</td>\n",
       "      <td>35900</td>\n",
       "      <td>3461</td>\n",
       "      <td>35900</td>\n",
       "    </tr>\n",
       "  </tbody>\n",
       "</table>\n",
       "</div>"
      ],
      "text/plain": [
       "          Date   Open   High    Low  Close  Volume  Adj_Close\n",
       "108 2020-01-06  34800  34850  34700  34750    7632      34750\n",
       "107 2020-01-07  35050  35200  35050  35200    3487      35200\n",
       "106 2020-01-08  34550  34900  34200  34850   11349      34850\n",
       "105 2020-01-09  35450  35600  35450  35600    6255      35600\n",
       "104 2020-01-10  35850  35900  35800  35900    3461      35900"
      ]
     },
     "execution_count": 11,
     "metadata": {
      "tags": []
     },
     "output_type": "execute_result"
    }
   ],
   "source": [
    "df.head()"
   ]
  },
  {
   "cell_type": "markdown",
   "metadata": {
    "colab_type": "text",
    "id": "dj9HQIOR_KsW"
   },
   "source": [
    "matplotlibによるプロットでチャートを作成"
   ]
  },
  {
   "cell_type": "code",
   "execution_count": 12,
   "metadata": {
    "colab": {
     "base_uri": "https://localhost:8080/",
     "height": 294
    },
    "colab_type": "code",
    "id": "oh8cs3iZTeGm",
    "outputId": "fdf14e04-9124-41c3-fe5e-895f0cf0c42c"
   },
   "outputs": [
    {
     "data": {
      "text/plain": [
       "<matplotlib.axes._subplots.AxesSubplot at 0x7f53e20229b0>"
      ]
     },
     "execution_count": 12,
     "metadata": {
      "tags": []
     },
     "output_type": "execute_result"
    },
    {
     "data": {
      "image/png": "[encoded data removed]",
      "text/plain": [
       "<Figure size 432x288 with 1 Axes>"
      ]
     },
     "metadata": {
      "needs_background": "light",
      "tags": []
     },
     "output_type": "display_data"
    }
   ],
   "source": [
    "df.set_index(\"Date\").Close.plot(style=\".-\")"
   ]
  }
 ],
 "metadata": {
  "colab": {
   "collapsed_sections": [],
   "name": "2020-02-26-v02-yahoo_finance_downloader_SPdataダウンロードv02_公開用に編集.ipynb",
   "provenance": []
  },
  "kernelspec": {
   "display_name": "Python 3",
   "language": "python",
   "name": "python3"
  },
  "language_info": {
   "codemirror_mode": {
    "name": "ipython",
    "version": 3
   },
   "file_extension": ".py",
   "mimetype": "text/x-python",
   "name": "python",
   "nbconvert_exporter": "python",
   "pygments_lexer": "ipython3",
   "version": "3.8.3"
  },
  "toc": {
   "base_numbering": 1,
   "nav_menu": {},
   "number_sections": true,
   "sideBar": true,
   "skip_h1_title": false,
   "title_cell": "Table of Contents",
   "title_sidebar": "Contents",
   "toc_cell": false,
   "toc_position": {},
   "toc_section_display": true,
   "toc_window_display": false
  }
 },
 "nbformat": 4,
 "nbformat_minor": 1
}
